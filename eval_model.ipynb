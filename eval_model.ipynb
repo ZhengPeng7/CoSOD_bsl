{
 "cells": [
  {
   "cell_type": "code",
   "execution_count": 1,
   "metadata": {},
   "outputs": [],
   "source": [
    "import os\n",
    "import torch\n",
    "\n",
    "from config import Config\n",
    "from models.baseline import BSL\n",
    "from dataset import get_loader\n",
    "from evaluation.valid import validate\n",
    "\n",
    "\n",
    "os.environ[“CUDA_VISIBLE_DEVICES”] = “0”\n",
    "val_sets = 'CoCA+CoSal2015+CoSOD3k'\n",
    "testsets = val_sets\n",
    "config = Config()\n",
    "# Prepare dataset\n",
    "test_loaders = {}\n",
    "for testset in testsets.split('+'):\n",
    "    test_loader = get_loader(\n",
    "        os.path.join(config.root_dir, 'images', testset), os.path.join(config.root_dir, 'gts', testset),\n",
    "        config.size, 1, istrain=False, shuffle=False, num_workers=int(config.num_workers//2), pin=True\n",
    "    )\n",
    "    test_loaders[testset] = test_loader\n",
    "# Init model\n",
    "model = BSL().to(config.device)"
   ]
  },
  {
   "cell_type": "code",
   "execution_count": 2,
   "metadata": {},
   "outputs": [
    {
     "name": "stdout",
     "output_type": "stream",
     "text": [
      "Loading ckpt/tmp-INS/ep100.pth\n",
      "Validating ..., CoCA"
     ]
    }
   ],
   "source": [
    "from glob import glob\n",
    "\n",
    "\n",
    "ckpts = glob('ckpt/tmp-INS/*.pth')\n",
    "for ckpt in ckpts:\n",
    "    val_save = '--'.join(ckpt.split('/')[-2:]).rstrip('.pth')\n",
    "    print('Loading', ckpt)\n",
    "    model.load_state_dict(torch.load(ckpt))\n",
    "    measures = validate(model, test_loaders, val_save, val_sets, valid_only_S=False)\n",
    "    for idx_dataset, (testset, measures_per_dataset) in enumerate(zip(testsets.split('+'), measures)):\n",
    "        fm, wfm, sm, em, mae = measures_per_dataset\n",
    "        print('Dataset:', testset)\n",
    "        print('\\tEmax: {:.4f}, \\tSm: {:.4f}, \\tFmax: {:.4f}, \\tMAE: {:.4f}.'.format(\n",
    "            em['curve'].max().round(3), sm.round(3), fm['curve'].max().round(3), mae.round(3)\n",
    "        ))"
   ]
  },
  {
   "cell_type": "code",
   "execution_count": null,
   "metadata": {},
   "outputs": [],
   "source": []
  },
  {
   "cell_type": "code",
   "execution_count": null,
   "metadata": {},
   "outputs": [],
   "source": []
  }
 ],
 "metadata": {
  "kernelspec": {
   "display_name": "Python 3",
   "language": "python",
   "name": "python3"
  },
  "language_info": {
   "codemirror_mode": {
    "name": "ipython",
    "version": 3
   },
   "file_extension": ".py",
   "mimetype": "text/x-python",
   "name": "python",
   "nbconvert_exporter": "python",
   "pygments_lexer": "ipython3",
   "version": "3.8.16"
  },
  "orig_nbformat": 4,
  "vscode": {
   "interpreter": {
    "hash": "2b744df4d42229aeb9e75a7e640265ec292748cdba2689b801df8b4a05a07b43"
   }
  }
 },
 "nbformat": 4,
 "nbformat_minor": 2
}
